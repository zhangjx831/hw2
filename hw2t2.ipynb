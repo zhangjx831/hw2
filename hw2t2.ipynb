{
 "cells": [
  {
   "cell_type": "code",
   "execution_count": 1,
   "id": "23f5ff1e",
   "metadata": {},
   "outputs": [],
   "source": [
    "import os\n",
    "os.environ['PYSPARK_SUBMIT_ARGS'] = '--packages com.databricks:spark-xml_2.12:0.14.0 pyspark-shell'"
   ]
  },
  {
   "cell_type": "code",
   "execution_count": 2,
   "id": "9d92c5bd",
   "metadata": {},
   "outputs": [
    {
     "name": "stdout",
     "output_type": "stream",
     "text": [
      ":: loading settings :: url = jar:file:/usr/lib/spark/jars/ivy-2.4.0.jar!/org/apache/ivy/core/settings/ivysettings.xml\n"
     ]
    },
    {
     "name": "stderr",
     "output_type": "stream",
     "text": [
      "Ivy Default Cache set to: /root/.ivy2/cache\n",
      "The jars for the packages stored in: /root/.ivy2/jars\n",
      "com.databricks#spark-xml_2.12 added as a dependency\n",
      ":: resolving dependencies :: org.apache.spark#spark-submit-parent-02c5d77a-8205-445b-8fa6-f1ea9139a07b;1.0\n",
      "\tconfs: [default]\n",
      "\tfound com.databricks#spark-xml_2.12;0.14.0 in central\n",
      "\tfound commons-io#commons-io;2.8.0 in central\n",
      "\tfound org.glassfish.jaxb#txw2;2.3.4 in central\n",
      "\tfound org.apache.ws.xmlschema#xmlschema-core;2.2.5 in central\n",
      ":: resolution report :: resolve 294ms :: artifacts dl 8ms\n",
      "\t:: modules in use:\n",
      "\tcom.databricks#spark-xml_2.12;0.14.0 from central in [default]\n",
      "\tcommons-io#commons-io;2.8.0 from central in [default]\n",
      "\torg.apache.ws.xmlschema#xmlschema-core;2.2.5 from central in [default]\n",
      "\torg.glassfish.jaxb#txw2;2.3.4 from central in [default]\n",
      "\t---------------------------------------------------------------------\n",
      "\t|                  |            modules            ||   artifacts   |\n",
      "\t|       conf       | number| search|dwnlded|evicted|| number|dwnlded|\n",
      "\t---------------------------------------------------------------------\n",
      "\t|      default     |   4   |   0   |   0   |   0   ||   4   |   0   |\n",
      "\t---------------------------------------------------------------------\n",
      ":: retrieving :: org.apache.spark#spark-submit-parent-02c5d77a-8205-445b-8fa6-f1ea9139a07b\n",
      "\tconfs: [default]\n",
      "\t0 artifacts copied, 4 already retrieved (0kB/9ms)\n",
      "Setting default log level to \"WARN\".\n",
      "To adjust logging level use sc.setLogLevel(newLevel). For SparkR, use setLogLevel(newLevel).\n",
      "22/04/18 18:14:26 INFO org.apache.spark.SparkEnv: Registering MapOutputTracker\n",
      "22/04/18 18:14:26 INFO org.apache.spark.SparkEnv: Registering BlockManagerMaster\n",
      "22/04/18 18:14:26 INFO org.apache.spark.SparkEnv: Registering BlockManagerMasterHeartbeat\n",
      "22/04/18 18:14:26 INFO org.apache.spark.SparkEnv: Registering OutputCommitCoordinator\n",
      "22/04/18 18:14:28 WARN org.apache.spark.deploy.yarn.Client: Same path resource file:///root/.ivy2/jars/com.databricks_spark-xml_2.12-0.14.0.jar added multiple times to distributed cache.\n",
      "22/04/18 18:14:28 WARN org.apache.spark.deploy.yarn.Client: Same path resource file:///root/.ivy2/jars/commons-io_commons-io-2.8.0.jar added multiple times to distributed cache.\n",
      "22/04/18 18:14:28 WARN org.apache.spark.deploy.yarn.Client: Same path resource file:///root/.ivy2/jars/org.glassfish.jaxb_txw2-2.3.4.jar added multiple times to distributed cache.\n",
      "22/04/18 18:14:28 WARN org.apache.spark.deploy.yarn.Client: Same path resource file:///root/.ivy2/jars/org.apache.ws.xmlschema_xmlschema-core-2.2.5.jar added multiple times to distributed cache.\n",
      "                                                                                \r"
     ]
    }
   ],
   "source": [
    "from pyspark.sql import SparkSession\n",
    "spark = SparkSession.builder.getOrCreate()\n",
    "df = spark.read.format('xml').options(rowTag='page').load('hdfs:/enwiki_small.xml')"
   ]
  },
  {
   "cell_type": "code",
   "execution_count": 3,
   "id": "3a559f70",
   "metadata": {},
   "outputs": [
    {
     "name": "stderr",
     "output_type": "stream",
     "text": [
      "\r",
      "[Stage 1:>                                                          (0 + 1) / 1]\r"
     ]
    },
    {
     "name": "stdout",
     "output_type": "stream",
     "text": [
      "+---+--------+------------+--------------------+--------------------+\n",
      "| id|redirect|restrictions|            revision|               title|\n",
      "+---+--------+------------+--------------------+--------------------+\n",
      "| 10|        |        null|{{[[Help:Revertin...| AccessibleComputing|\n",
      "| 12|    null|        null|{{Undid revision ...|           Anarchism|\n",
      "| 13|        |        null|{{cat rd, null}, ...|  AfghanistanHistory|\n",
      "| 14|        |        null|{{1 revision from...|AfghanistanGeography|\n",
      "| 15|        |        null|{{Robot: Fixing [...|   AfghanistanPeople|\n",
      "| 18|        |        null|{{cat rd, null}, ...|AfghanistanCommun...|\n",
      "| 19|        |        null|{{cat rd, null}, ...|AfghanistanTransp...|\n",
      "| 20|        |        null|{{cat rd, null}, ...| AfghanistanMilitary|\n",
      "| 21|        |        null|{{{{R from CamelC...|AfghanistanTransn...|\n",
      "| 23|        |        null|{{cat rd, null}, ...| AssistiveTechnology|\n",
      "| 24|        |        null|{{cat rd, null}, ...|        AmoeboidTaxa|\n",
      "| 25|    null|        null|{{\"Determined by ...|              Autism|\n",
      "| 27|        |        null|{{cat rd, null}, ...|      AlbaniaHistory|\n",
      "| 29|        |        null|{{cat rd, null}, ...|       AlbaniaPeople|\n",
      "| 30|        |        null|{{cat rd, null}, ...|        AsWeMayThink|\n",
      "| 33|        |        null|{{restore redirec...|           AllSaints|\n",
      "| 35|        |        null|{{cat rd, null}, ...|   AlbaniaGovernment|\n",
      "| 36|        |        null|{{cat rd, null}, ...|      AlbaniaEconomy|\n",
      "| 39|    null|        null|{{Dated {{Citatio...|              Albedo|\n",
      "| 40|        |        null|{{Fixing identifi...|AfroAsiaticLanguages|\n",
      "+---+--------+------------+--------------------+--------------------+\n",
      "only showing top 20 rows\n",
      "\n"
     ]
    },
    {
     "name": "stderr",
     "output_type": "stream",
     "text": [
      "\r",
      "                                                                                \r"
     ]
    }
   ],
   "source": [
    "df.show()"
   ]
  },
  {
   "cell_type": "code",
   "execution_count": 4,
   "id": "5dfe0182",
   "metadata": {},
   "outputs": [
    {
     "name": "stdout",
     "output_type": "stream",
     "text": [
      "root\n",
      " |-- id: long (nullable = true)\n",
      " |-- redirect: string (nullable = true)\n",
      " |-- restrictions: string (nullable = true)\n",
      " |-- revision: struct (nullable = true)\n",
      " |    |-- comment: struct (nullable = true)\n",
      " |    |    |-- _VALUE: string (nullable = true)\n",
      " |    |    |-- _deleted: string (nullable = true)\n",
      " |    |-- contributor: struct (nullable = true)\n",
      " |    |    |-- id: long (nullable = true)\n",
      " |    |    |-- ip: string (nullable = true)\n",
      " |    |    |-- username: string (nullable = true)\n",
      " |    |-- id: long (nullable = true)\n",
      " |    |-- minor: string (nullable = true)\n",
      " |    |-- text: struct (nullable = true)\n",
      " |    |    |-- _VALUE: string (nullable = true)\n",
      " |    |    |-- _xml:space: string (nullable = true)\n",
      " |    |-- timestamp: timestamp (nullable = true)\n",
      " |-- title: string (nullable = true)\n",
      "\n"
     ]
    }
   ],
   "source": [
    "df.printSchema()"
   ]
  },
  {
   "cell_type": "code",
   "execution_count": 5,
   "id": "ded06432",
   "metadata": {},
   "outputs": [],
   "source": [
    "import regex\n",
    "from pyspark.sql.functions import lower, udf, col, explode\n",
    "\n",
    "def extractLink(text):\n",
    "    try:\n",
    "        results = regex.findall(r'\\[\\[((?:[^[\\]]+|(?R))*+)\\]\\]', text)\n",
    "    except:\n",
    "        results = []\n",
    "    output = []\n",
    "    for res in results:\n",
    "        for link in res.split('|'):\n",
    "            if ':' in link and 'Category:' not in link:\n",
    "                continue\n",
    "            elif '#' in link:\n",
    "                continue\n",
    "            else:\n",
    "                output.append(link.lower())\n",
    "                break\n",
    "    return output"
   ]
  },
  {
   "cell_type": "code",
   "execution_count": 10,
   "id": "2df10390",
   "metadata": {},
   "outputs": [],
   "source": [
    "from pyspark.sql.types import StringType, ArrayType\n",
    "\n",
    "link_udf = udf(lambda text: extractLink(text), ArrayType(StringType()))\n",
    "newdf = df.withColumn(\"article\", explode(link_udf(col(\"revision.text._VALUE\"))))"
   ]
  },
  {
   "cell_type": "code",
   "execution_count": 7,
   "id": "d8396fe8",
   "metadata": {
    "scrolled": false
   },
   "outputs": [
    {
     "name": "stdout",
     "output_type": "stream",
     "text": [
      "root\n",
      " |-- id: long (nullable = true)\n",
      " |-- redirect: string (nullable = true)\n",
      " |-- restrictions: string (nullable = true)\n",
      " |-- revision: struct (nullable = true)\n",
      " |    |-- comment: struct (nullable = true)\n",
      " |    |    |-- _VALUE: string (nullable = true)\n",
      " |    |    |-- _deleted: string (nullable = true)\n",
      " |    |-- contributor: struct (nullable = true)\n",
      " |    |    |-- id: long (nullable = true)\n",
      " |    |    |-- ip: string (nullable = true)\n",
      " |    |    |-- username: string (nullable = true)\n",
      " |    |-- id: long (nullable = true)\n",
      " |    |-- minor: string (nullable = true)\n",
      " |    |-- text: struct (nullable = true)\n",
      " |    |    |-- _VALUE: string (nullable = true)\n",
      " |    |    |-- _xml:space: string (nullable = true)\n",
      " |    |-- timestamp: timestamp (nullable = true)\n",
      " |-- title: string (nullable = true)\n",
      " |-- article: string (nullable = true)\n",
      "\n"
     ]
    }
   ],
   "source": [
    "newdf.printSchema()"
   ]
  },
  {
   "cell_type": "code",
   "execution_count": 12,
   "id": "fde749ad",
   "metadata": {},
   "outputs": [],
   "source": [
    "newdf = newdf.select(lower(col('title')).alias('title'), 'article').orderBy('title', 'article')"
   ]
  },
  {
   "cell_type": "code",
   "execution_count": null,
   "id": "9affd054",
   "metadata": {},
   "outputs": [
    {
     "name": "stderr",
     "output_type": "stream",
     "text": [
      "[Stage 4:===================>                                       (2 + 4) / 6]\r"
     ]
    }
   ],
   "source": [
    "newdf.repartition(10).write.option(\"delimiter\", \"\\t\").csv('p2t2_small')"
   ]
  }
 ],
 "metadata": {
  "kernelspec": {
   "display_name": "Python 3",
   "language": "python",
   "name": "python3"
  },
  "language_info": {
   "codemirror_mode": {
    "name": "ipython",
    "version": 3
   },
   "file_extension": ".py",
   "mimetype": "text/x-python",
   "name": "python",
   "nbconvert_exporter": "python",
   "pygments_lexer": "ipython3",
   "version": "3.8.13"
  }
 },
 "nbformat": 4,
 "nbformat_minor": 5
}
