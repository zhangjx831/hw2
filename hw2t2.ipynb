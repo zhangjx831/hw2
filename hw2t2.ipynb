{
 "cells": [
  {
   "cell_type": "code",
   "execution_count": 1,
   "id": "23f5ff1e",
   "metadata": {},
   "outputs": [],
   "source": [
    "import os\n",
    "os.environ['PYSPARK_SUBMIT_ARGS'] = '--packages com.databricks:spark-xml_2.12:0.14.0 pyspark-shell'"
   ]
  },
  {
   "cell_type": "code",
   "execution_count": 2,
   "id": "9d92c5bd",
   "metadata": {},
   "outputs": [
    {
     "name": "stdout",
     "output_type": "stream",
     "text": [
      ":: loading settings :: url = jar:file:/usr/lib/spark/jars/ivy-2.4.0.jar!/org/apache/ivy/core/settings/ivysettings.xml\n"
     ]
    },
    {
     "name": "stderr",
     "output_type": "stream",
     "text": [
      "Ivy Default Cache set to: /root/.ivy2/cache\n",
      "The jars for the packages stored in: /root/.ivy2/jars\n",
      "com.databricks#spark-xml_2.12 added as a dependency\n",
      ":: resolving dependencies :: org.apache.spark#spark-submit-parent-dcaff25a-96a7-4d3e-9483-b52550ed726b;1.0\n",
      "\tconfs: [default]\n",
      "\tfound com.databricks#spark-xml_2.12;0.14.0 in central\n",
      "\tfound commons-io#commons-io;2.8.0 in central\n",
      "\tfound org.glassfish.jaxb#txw2;2.3.4 in central\n",
      "\tfound org.apache.ws.xmlschema#xmlschema-core;2.2.5 in central\n",
      ":: resolution report :: resolve 290ms :: artifacts dl 8ms\n",
      "\t:: modules in use:\n",
      "\tcom.databricks#spark-xml_2.12;0.14.0 from central in [default]\n",
      "\tcommons-io#commons-io;2.8.0 from central in [default]\n",
      "\torg.apache.ws.xmlschema#xmlschema-core;2.2.5 from central in [default]\n",
      "\torg.glassfish.jaxb#txw2;2.3.4 from central in [default]\n",
      "\t---------------------------------------------------------------------\n",
      "\t|                  |            modules            ||   artifacts   |\n",
      "\t|       conf       | number| search|dwnlded|evicted|| number|dwnlded|\n",
      "\t---------------------------------------------------------------------\n",
      "\t|      default     |   4   |   0   |   0   |   0   ||   4   |   0   |\n",
      "\t---------------------------------------------------------------------\n",
      ":: retrieving :: org.apache.spark#spark-submit-parent-dcaff25a-96a7-4d3e-9483-b52550ed726b\n",
      "\tconfs: [default]\n",
      "\t0 artifacts copied, 4 already retrieved (0kB/7ms)\n",
      "Setting default log level to \"WARN\".\n",
      "To adjust logging level use sc.setLogLevel(newLevel). For SparkR, use setLogLevel(newLevel).\n",
      "22/04/15 00:56:43 INFO org.apache.spark.SparkEnv: Registering MapOutputTracker\n",
      "22/04/15 00:56:43 INFO org.apache.spark.SparkEnv: Registering BlockManagerMaster\n",
      "22/04/15 00:56:43 INFO org.apache.spark.SparkEnv: Registering BlockManagerMasterHeartbeat\n",
      "22/04/15 00:56:43 INFO org.apache.spark.SparkEnv: Registering OutputCommitCoordinator\n",
      "22/04/15 00:56:45 WARN org.apache.spark.deploy.yarn.Client: Same path resource file:///root/.ivy2/jars/com.databricks_spark-xml_2.12-0.14.0.jar added multiple times to distributed cache.\n",
      "22/04/15 00:56:45 WARN org.apache.spark.deploy.yarn.Client: Same path resource file:///root/.ivy2/jars/commons-io_commons-io-2.8.0.jar added multiple times to distributed cache.\n",
      "22/04/15 00:56:45 WARN org.apache.spark.deploy.yarn.Client: Same path resource file:///root/.ivy2/jars/org.glassfish.jaxb_txw2-2.3.4.jar added multiple times to distributed cache.\n",
      "22/04/15 00:56:45 WARN org.apache.spark.deploy.yarn.Client: Same path resource file:///root/.ivy2/jars/org.apache.ws.xmlschema_xmlschema-core-2.2.5.jar added multiple times to distributed cache.\n",
      "                                                                                \r"
     ]
    }
   ],
   "source": [
    "from pyspark.sql import SparkSession\n",
    "spark = SparkSession.builder.getOrCreate()\n",
    "df = spark.read.format('xml').options(rowTag='page').load('hdfs:/enwiki_test.xml')"
   ]
  },
  {
   "cell_type": "code",
   "execution_count": 3,
   "id": "3a559f70",
   "metadata": {},
   "outputs": [
    {
     "name": "stderr",
     "output_type": "stream",
     "text": [
      "\r",
      "[Stage 1:>                                                          (0 + 1) / 1]\r"
     ]
    },
    {
     "name": "stdout",
     "output_type": "stream",
     "text": [
      "+-------+--------+------------+--------------------+--------------------+\n",
      "|     id|redirect|restrictions|            revision|               title|\n",
      "+-------+--------+------------+--------------------+--------------------+\n",
      "|1600001|    null|        null|{{Robot - Removin...|Wikipedia:Article...|\n",
      "|1600006|    null|        null|{{[[WP:CHECKWIKI]...|      Homer Jacobson|\n",
      "|1600009|        |        null|{{{{R from other ...|             Deflate|\n",
      "|1600011|        |        null|{{[[WP:AES|←]]Red...|Hanna-Barbera Car...|\n",
      "|1600017|        |        null|{null, {null, nul...|          Facel-Vega|\n",
      "|1600021|        |        null|{null, {null, nul...|Birmingham Railwa...|\n",
      "|1600022|    null|        null|{{[[WP:CHECKWIKI]...|     Edward F. Moore|\n",
      "|1600027|    null|        null|{null, {null, nul...|      Tyler Florence|\n",
      "|1600028|        |        null|{{{{R from other ...|Accentual-Syllabi...|\n",
      "|1600031|        |        null|{{[[WP:AES|←]]Red...|          Blackwhite|\n",
      "|1600034|    null|        null|{{Interwiki, null...|Category:Stock ex...|\n",
      "|1600036|    null|        null|{{[[:en:WP:CLEANE...|Scooby-Doo in Ara...|\n",
      "|1600038|    null|        null|{{/* Launeddas */...|   Music of Sardinia|\n",
      "|1600042|    null|        null|{{stub sort, null...|   Marion Verbruggen|\n",
      "|1600044|        |        null|{null, {null, nul...|     Maha Siva ratri|\n",
      "|1600045|        |        null|{{Redirecting to ...|       Magyar people|\n",
      "|1600047|        |        null|{{#redirect [[mus...|     Sardinian music|\n",
      "|1600050|    null|        null|{null, {null, nul...|            Colorful|\n",
      "|1600052|        |        null|{{[[,H.A.G.G.Ė.R ...|           Colourful|\n",
      "|1600053|    null|        null|{{/* Other refere...|Self-replicating ...|\n",
      "+-------+--------+------------+--------------------+--------------------+\n",
      "only showing top 20 rows\n",
      "\n"
     ]
    },
    {
     "name": "stderr",
     "output_type": "stream",
     "text": [
      "\r",
      "                                                                                \r"
     ]
    }
   ],
   "source": [
    "df.show()"
   ]
  },
  {
   "cell_type": "code",
   "execution_count": 4,
   "id": "5dfe0182",
   "metadata": {},
   "outputs": [
    {
     "name": "stdout",
     "output_type": "stream",
     "text": [
      "root\n",
      " |-- id: long (nullable = true)\n",
      " |-- redirect: string (nullable = true)\n",
      " |-- restrictions: string (nullable = true)\n",
      " |-- revision: struct (nullable = true)\n",
      " |    |-- comment: struct (nullable = true)\n",
      " |    |    |-- _VALUE: string (nullable = true)\n",
      " |    |    |-- _deleted: string (nullable = true)\n",
      " |    |-- contributor: struct (nullable = true)\n",
      " |    |    |-- _VALUE: string (nullable = true)\n",
      " |    |    |-- _deleted: string (nullable = true)\n",
      " |    |    |-- id: long (nullable = true)\n",
      " |    |    |-- ip: string (nullable = true)\n",
      " |    |    |-- username: string (nullable = true)\n",
      " |    |-- id: long (nullable = true)\n",
      " |    |-- minor: string (nullable = true)\n",
      " |    |-- text: struct (nullable = true)\n",
      " |    |    |-- _VALUE: string (nullable = true)\n",
      " |    |    |-- _xml:space: string (nullable = true)\n",
      " |    |-- timestamp: timestamp (nullable = true)\n",
      " |-- title: string (nullable = true)\n",
      "\n"
     ]
    }
   ],
   "source": [
    "df.printSchema()"
   ]
  },
  {
   "cell_type": "code",
   "execution_count": 17,
   "id": "ded06432",
   "metadata": {},
   "outputs": [],
   "source": [
    "import re\n",
    "from pyspark.sql.functions import udf, col, explode\n",
    "\n",
    "def extractLink(text):\n",
    "    try:\n",
    "        results = re.findall(r'(?<=\\[\\[).*?(?=\\]\\])', text)\n",
    "    except:\n",
    "        results = []\n",
    "    output = []\n",
    "    for res in results:\n",
    "        if ':' in res and 'Category:' not in res:\n",
    "            continue\n",
    "        else:\n",
    "            temp = res.split('|') #all links\n",
    "            valid_links = [ x.lower() for x in temp if \"#\" not in x]\n",
    "            if len(valid_links)==0:\n",
    "                continue\n",
    "            else:\n",
    "                output.append(valid_links[0])\n",
    "    return output"
   ]
  },
  {
   "cell_type": "code",
   "execution_count": 18,
   "id": "2df10390",
   "metadata": {},
   "outputs": [],
   "source": [
    "from pyspark.sql.types import StringType, ArrayType\n",
    "\n",
    "link_udf = udf(lambda text: extractLink(text), ArrayType(StringType()))\n",
    "newdf = df.withColumn(\"article\", explode(link_udf(col(\"revision.text._VALUE\"))))"
   ]
  },
  {
   "cell_type": "code",
   "execution_count": 19,
   "id": "d8396fe8",
   "metadata": {
    "scrolled": false
   },
   "outputs": [
    {
     "name": "stdout",
     "output_type": "stream",
     "text": [
      "root\n",
      " |-- id: long (nullable = true)\n",
      " |-- redirect: string (nullable = true)\n",
      " |-- restrictions: string (nullable = true)\n",
      " |-- revision: struct (nullable = true)\n",
      " |    |-- comment: struct (nullable = true)\n",
      " |    |    |-- _VALUE: string (nullable = true)\n",
      " |    |    |-- _deleted: string (nullable = true)\n",
      " |    |-- contributor: struct (nullable = true)\n",
      " |    |    |-- _VALUE: string (nullable = true)\n",
      " |    |    |-- _deleted: string (nullable = true)\n",
      " |    |    |-- id: long (nullable = true)\n",
      " |    |    |-- ip: string (nullable = true)\n",
      " |    |    |-- username: string (nullable = true)\n",
      " |    |-- id: long (nullable = true)\n",
      " |    |-- minor: string (nullable = true)\n",
      " |    |-- text: struct (nullable = true)\n",
      " |    |    |-- _VALUE: string (nullable = true)\n",
      " |    |    |-- _xml:space: string (nullable = true)\n",
      " |    |-- timestamp: timestamp (nullable = true)\n",
      " |-- title: string (nullable = true)\n",
      " |-- article: string (nullable = true)\n",
      "\n"
     ]
    }
   ],
   "source": [
    "newdf.printSchema()"
   ]
  },
  {
   "cell_type": "code",
   "execution_count": 21,
   "id": "9affd054",
   "metadata": {},
   "outputs": [
    {
     "name": "stderr",
     "output_type": "stream",
     "text": [
      "                                                                                \r"
     ]
    }
   ],
   "source": [
    "newdf.select('title', 'article').repartition(10).write.option(\"delimiter\", \"\\t\").csv('p2t2_test')"
   ]
  }
 ],
 "metadata": {
  "kernelspec": {
   "display_name": "Python 3",
   "language": "python",
   "name": "python3"
  },
  "language_info": {
   "codemirror_mode": {
    "name": "ipython",
    "version": 3
   },
   "file_extension": ".py",
   "mimetype": "text/x-python",
   "name": "python",
   "nbconvert_exporter": "python",
   "pygments_lexer": "ipython3",
   "version": "3.8.13"
  }
 },
 "nbformat": 4,
 "nbformat_minor": 5
}
