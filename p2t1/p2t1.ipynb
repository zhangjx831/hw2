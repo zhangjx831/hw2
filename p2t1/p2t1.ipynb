{
 "cells": [
  {
   "cell_type": "code",
   "execution_count": null,
   "id": "3536f286",
   "metadata": {},
   "outputs": [],
   "source": [
    "from pyspark.sql import SparkSession\n",
    "\n",
    "spark = SparkSession.builder.appName(\"Streamming\").getOrCreate()\n"
   ]
  },
  {
   "cell_type": "code",
   "execution_count": null,
   "id": "6e030dc7",
   "metadata": {},
   "outputs": [],
   "source": [
    "df = spark.readStream.option(\"sep\", \",\").csv(\"hdfs://hw2-m/user/root/hw2t2_whole\")"
   ]
  },
  {
   "cell_type": "code",
   "execution_count": null,
   "id": "781d536b",
   "metadata": {},
   "outputs": [],
   "source": [
    "df.select('article', 'rank').where(\"rank > 0.5\")"
   ]
  }
 ],
 "metadata": {
  "kernelspec": {
   "display_name": "Python 3",
   "language": "python",
   "name": "python3"
  },
  "language_info": {
   "codemirror_mode": {
    "name": "ipython",
    "version": 3
   },
   "file_extension": ".py",
   "mimetype": "text/x-python",
   "name": "python",
   "nbconvert_exporter": "python",
   "pygments_lexer": "ipython3",
   "version": "3.8.13"
  }
 },
 "nbformat": 4,
 "nbformat_minor": 5
}
