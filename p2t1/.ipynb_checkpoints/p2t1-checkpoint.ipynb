{
 "cells": [
  {
   "cell_type": "code",
   "execution_count": 2,
   "id": "b062f556",
   "metadata": {},
   "outputs": [],
   "source": [
    "import os\n",
    "os.environ['PYSPARK_SUBMIT_ARGS'] = '--packages com.databricks:spark-xml_2.12:0.14.0 pyspark-shell'"
   ]
  },
  {
   "cell_type": "code",
   "execution_count": 1,
   "id": "3536f286",
   "metadata": {},
   "outputs": [
    {
     "name": "stderr",
     "output_type": "stream",
     "text": [
      "Setting default log level to \"WARN\".\n",
      "To adjust logging level use sc.setLogLevel(newLevel). For SparkR, use setLogLevel(newLevel).\n",
      "22/04/21 19:04:03 INFO org.apache.spark.SparkEnv: Registering MapOutputTracker\n",
      "22/04/21 19:04:04 INFO org.apache.spark.SparkEnv: Registering BlockManagerMaster\n",
      "22/04/21 19:04:04 INFO org.apache.spark.SparkEnv: Registering BlockManagerMasterHeartbeat\n",
      "22/04/21 19:04:04 INFO org.apache.spark.SparkEnv: Registering OutputCommitCoordinator\n"
     ]
    }
   ],
   "source": [
    "from pyspark.sql import SparkSession\n",
    "\n",
    "spark = SparkSession.builder.appName(\"Streamming\").getOrCreate()\n"
   ]
  },
  {
   "cell_type": "code",
   "execution_count": null,
   "id": "6e030dc7",
   "metadata": {},
   "outputs": [],
   "source": [
    "df = spark.readStream.option(\"sep\", \",\").csv(\"hdfs://hw2-m/user/root/p2t2_whole\")"
   ]
  },
  {
   "cell_type": "code",
   "execution_count": null,
   "id": "781d536b",
   "metadata": {},
   "outputs": [],
   "source": [
    "df.select('article', 'rank').where(\"rank > 0.5\")"
   ]
  }
 ],
 "metadata": {
  "kernelspec": {
   "display_name": "Python 3",
   "language": "python",
   "name": "python3"
  },
  "language_info": {
   "codemirror_mode": {
    "name": "ipython",
    "version": 3
   },
   "file_extension": ".py",
   "mimetype": "text/x-python",
   "name": "python",
   "nbconvert_exporter": "python",
   "pygments_lexer": "ipython3",
   "version": "3.8.13"
  }
 },
 "nbformat": 4,
 "nbformat_minor": 5
}
